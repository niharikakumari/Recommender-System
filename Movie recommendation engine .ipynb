{
 "cells": [
  {
   "cell_type": "code",
   "execution_count": 2,
   "id": "f45bc836",
   "metadata": {},
   "outputs": [],
   "source": [
    "import pandas as pd\n",
    "import numpy as np"
   ]
  },
  {
   "cell_type": "code",
   "execution_count": 3,
   "id": "966805fb",
   "metadata": {},
   "outputs": [
    {
     "data": {
      "text/plain": [
       "((90570, 4), (9430, 4))"
      ]
     },
     "execution_count": 3,
     "metadata": {},
     "output_type": "execute_result"
    }
   ],
   "source": [
    "r_cols = ['user_id', 'movie_id', 'rating', 'unix_timestamp']\n",
    "ratings_train = pd.read_csv('C:/Users/DELL/Downloads/ml-100k/ua.base', sep='\\t', names=r_cols, encoding='latin-1')\n",
    "ratings_test = pd.read_csv('C:/Users/DELL/Downloads/ml-100k/ua.test', sep='\\t', names=r_cols, encoding='latin-1')\n",
    "ratings_train.shape, ratings_test.shape"
   ]
  },
  {
   "cell_type": "code",
   "execution_count": 8,
   "id": "30bec011",
   "metadata": {},
   "outputs": [
    {
     "data": {
      "text/html": [
       "<div>\n",
       "<style scoped>\n",
       "    .dataframe tbody tr th:only-of-type {\n",
       "        vertical-align: middle;\n",
       "    }\n",
       "\n",
       "    .dataframe tbody tr th {\n",
       "        vertical-align: top;\n",
       "    }\n",
       "\n",
       "    .dataframe thead th {\n",
       "        text-align: right;\n",
       "    }\n",
       "</style>\n",
       "<table border=\"1\" class=\"dataframe\">\n",
       "  <thead>\n",
       "    <tr style=\"text-align: right;\">\n",
       "      <th></th>\n",
       "      <th>user_id</th>\n",
       "      <th>movie_id</th>\n",
       "      <th>rating</th>\n",
       "      <th>unix_timestamp</th>\n",
       "    </tr>\n",
       "  </thead>\n",
       "  <tbody>\n",
       "    <tr>\n",
       "      <th>0</th>\n",
       "      <td>1</td>\n",
       "      <td>1</td>\n",
       "      <td>5</td>\n",
       "      <td>874965758</td>\n",
       "    </tr>\n",
       "    <tr>\n",
       "      <th>1</th>\n",
       "      <td>1</td>\n",
       "      <td>2</td>\n",
       "      <td>3</td>\n",
       "      <td>876893171</td>\n",
       "    </tr>\n",
       "    <tr>\n",
       "      <th>2</th>\n",
       "      <td>1</td>\n",
       "      <td>3</td>\n",
       "      <td>4</td>\n",
       "      <td>878542960</td>\n",
       "    </tr>\n",
       "    <tr>\n",
       "      <th>3</th>\n",
       "      <td>1</td>\n",
       "      <td>4</td>\n",
       "      <td>3</td>\n",
       "      <td>876893119</td>\n",
       "    </tr>\n",
       "    <tr>\n",
       "      <th>4</th>\n",
       "      <td>1</td>\n",
       "      <td>5</td>\n",
       "      <td>3</td>\n",
       "      <td>889751712</td>\n",
       "    </tr>\n",
       "  </tbody>\n",
       "</table>\n",
       "</div>"
      ],
      "text/plain": [
       "   user_id  movie_id  rating  unix_timestamp\n",
       "0        1         1       5       874965758\n",
       "1        1         2       3       876893171\n",
       "2        1         3       4       878542960\n",
       "3        1         4       3       876893119\n",
       "4        1         5       3       889751712"
      ]
     },
     "execution_count": 8,
     "metadata": {},
     "output_type": "execute_result"
    }
   ],
   "source": [
    "ratings_train.head()"
   ]
  },
  {
   "cell_type": "code",
   "execution_count": 19,
   "id": "4d9faf8f",
   "metadata": {},
   "outputs": [
    {
     "name": "stdout",
     "output_type": "stream",
     "text": [
      "943 1680\n",
      "943 1682\n"
     ]
    }
   ],
   "source": [
    "n_users = ratings_train.user_id.unique().shape[0]\n",
    "n_items = ratings_train.movie_id.unique().shape[0]\n",
    "\n",
    "\n",
    "max_user_id = max(ratings_train['user_id'])\n",
    "max_item_id = max(ratings_train['movie_id'])\n",
    "\n",
    "print(n_users, n_items)\n",
    "print(max_user_id, max_item_id)"
   ]
  },
  {
   "cell_type": "code",
   "execution_count": 25,
   "id": "ae7f65af",
   "metadata": {},
   "outputs": [],
   "source": [
    "data_matrix = np.zeros((n_users, max_item_id)) \n",
    "for line in ratings_train.itertuples():\n",
    "    data_matrix[line[1]-1, line[2]-1] = line[3]"
   ]
  },
  {
   "cell_type": "code",
   "execution_count": 26,
   "id": "267db471",
   "metadata": {},
   "outputs": [
    {
     "data": {
      "text/plain": [
       "(943, 1682)"
      ]
     },
     "execution_count": 26,
     "metadata": {},
     "output_type": "execute_result"
    }
   ],
   "source": [
    "data_matrix.shape"
   ]
  },
  {
   "cell_type": "code",
   "execution_count": 27,
   "id": "45ef741e",
   "metadata": {},
   "outputs": [],
   "source": [
    "from sklearn.metrics.pairwise import pairwise_distances \n",
    "user_similarity = pairwise_distances(data_matrix, metric='cosine')\n",
    "item_similarity = pairwise_distances(data_matrix.T, metric='cosine')"
   ]
  },
  {
   "cell_type": "code",
   "execution_count": 30,
   "id": "32e523df",
   "metadata": {},
   "outputs": [
    {
     "name": "stdout",
     "output_type": "stream",
     "text": [
      "(943, 943)\n",
      "(1682, 1682)\n"
     ]
    }
   ],
   "source": [
    "print(user_similarity.shape)\n",
    "print(item_similarity.shape)"
   ]
  },
  {
   "cell_type": "code",
   "execution_count": 63,
   "id": "c054af8f",
   "metadata": {},
   "outputs": [],
   "source": [
    "def predict(ratings, similarity, type='user'):\n",
    "    if type == 'user':\n",
    "        mean_user_rating = ratings.mean(axis=1)\n",
    "        #We use np.newaxis so that mean_user_rating has same format as ratings\n",
    "        ratings_diff = (ratings - mean_user_rating[:, np.newaxis])   # a[:, np.newaxis] gives transpose of a\n",
    "        pred = mean_user_rating[:, np.newaxis] + similarity.dot(ratings_diff) / np.array([np.abs(similarity).sum(axis=1)]).T\n",
    "    elif type == 'item':\n",
    "        pred = ratings.dot(similarity) / np.array([np.abs(similarity).sum(axis=1)])\n",
    "        \n",
    "    return pred"
   ]
  },
  {
   "cell_type": "code",
   "execution_count": 70,
   "id": "9f4e1833",
   "metadata": {},
   "outputs": [],
   "source": [
    "user_prediction = predict(data_matrix, item_similarity, type='item')"
   ]
  },
  {
   "cell_type": "code",
   "execution_count": 76,
   "id": "09907026",
   "metadata": {},
   "outputs": [
    {
     "data": {
      "text/plain": [
       "[0.5876810604429497,\n",
       " 0.5853713629285401,\n",
       " 0.5838293104207221,\n",
       " 0.5836933873132876,\n",
       " 0.5834056514162491,\n",
       " 0.5834056514162491,\n",
       " 0.5821927515351616,\n",
       " 0.5821927515351616,\n",
       " 0.5817111972929514,\n",
       " 0.5815507222319174,\n",
       " 0.5805564635479896,\n",
       " 0.5804322991010413,\n",
       " 0.5797711335807268,\n",
       " 0.5791359790166605,\n",
       " 0.5791359790166605,\n",
       " 0.5791359790166605,\n",
       " 0.5791359790166605,\n",
       " 0.5791359790166605,\n",
       " 0.5791359790166605,\n",
       " 0.5791359790166605,\n",
       " 0.5791359790166605,\n",
       " 0.5791359790166605,\n",
       " 0.5791359790166605,\n",
       " 0.5791359790166605,\n",
       " 0.5791359790166605,\n",
       " 0.5791359790166605,\n",
       " 0.5791359790166605,\n",
       " 0.5791359790166605,\n",
       " 0.5791359790166605,\n",
       " 0.5791359790166605]"
      ]
     },
     "execution_count": 76,
     "metadata": {},
     "output_type": "execute_result"
    }
   ],
   "source": [
    "sorted(user_prediction[0], reverse=True)[0:30]"
   ]
  },
  {
   "cell_type": "code",
   "execution_count": 77,
   "id": "a4cc4820",
   "metadata": {},
   "outputs": [
    {
     "data": {
      "text/plain": [
       "(943, 1682)"
      ]
     },
     "execution_count": 77,
     "metadata": {},
     "output_type": "execute_result"
    }
   ],
   "source": [
    "user_prediction.shape"
   ]
  },
  {
   "cell_type": "code",
   "execution_count": 75,
   "id": "5aa7db4f",
   "metadata": {},
   "outputs": [
    {
     "data": {
      "text/plain": [
       "array([0.43389504, 0.46234738, 0.48689667, ..., 0.56539575, 0.55089193,\n",
       "       0.54418388])"
      ]
     },
     "execution_count": 75,
     "metadata": {},
     "output_type": "execute_result"
    }
   ],
   "source": [
    "user_prediction[0]"
   ]
  },
  {
   "cell_type": "code",
   "execution_count": null,
   "id": "d0bf6fd4",
   "metadata": {},
   "outputs": [],
   "source": []
  }
 ],
 "metadata": {
  "kernelspec": {
   "display_name": "Python 3",
   "language": "python",
   "name": "python3"
  },
  "language_info": {
   "codemirror_mode": {
    "name": "ipython",
    "version": 3
   },
   "file_extension": ".py",
   "mimetype": "text/x-python",
   "name": "python",
   "nbconvert_exporter": "python",
   "pygments_lexer": "ipython3",
   "version": "3.8.8"
  }
 },
 "nbformat": 4,
 "nbformat_minor": 5
}
