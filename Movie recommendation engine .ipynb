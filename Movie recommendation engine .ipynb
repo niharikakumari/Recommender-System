{
 "cells": [
  {
   "cell_type": "code",
   "execution_count": 1,
   "id": "f45bc836",
   "metadata": {},
   "outputs": [],
   "source": [
    "import pandas as pd\n",
    "import numpy as np"
   ]
  },
  {
   "cell_type": "code",
   "execution_count": 2,
   "id": "966805fb",
   "metadata": {},
   "outputs": [
    {
     "data": {
      "text/plain": [
       "((90570, 4), (9430, 4))"
      ]
     },
     "execution_count": 2,
     "metadata": {},
     "output_type": "execute_result"
    }
   ],
   "source": [
    "r_cols = ['user_id', 'movie_id', 'rating', 'unix_timestamp']\n",
    "ratings_train = pd.read_csv('C:/Users/DELL/Downloads/ml-100k/ua.base', sep='\\t', names=r_cols, encoding='latin-1')\n",
    "ratings_test = pd.read_csv('C:/Users/DELL/Downloads/ml-100k/ua.test', sep='\\t', names=r_cols, encoding='latin-1')\n",
    "ratings_train.shape, ratings_test.shape"
   ]
  },
  {
   "cell_type": "code",
   "execution_count": 3,
   "id": "30bec011",
   "metadata": {},
   "outputs": [
    {
     "data": {
      "text/html": [
       "<div>\n",
       "<style scoped>\n",
       "    .dataframe tbody tr th:only-of-type {\n",
       "        vertical-align: middle;\n",
       "    }\n",
       "\n",
       "    .dataframe tbody tr th {\n",
       "        vertical-align: top;\n",
       "    }\n",
       "\n",
       "    .dataframe thead th {\n",
       "        text-align: right;\n",
       "    }\n",
       "</style>\n",
       "<table border=\"1\" class=\"dataframe\">\n",
       "  <thead>\n",
       "    <tr style=\"text-align: right;\">\n",
       "      <th></th>\n",
       "      <th>user_id</th>\n",
       "      <th>movie_id</th>\n",
       "      <th>rating</th>\n",
       "      <th>unix_timestamp</th>\n",
       "    </tr>\n",
       "  </thead>\n",
       "  <tbody>\n",
       "    <tr>\n",
       "      <th>0</th>\n",
       "      <td>1</td>\n",
       "      <td>1</td>\n",
       "      <td>5</td>\n",
       "      <td>874965758</td>\n",
       "    </tr>\n",
       "    <tr>\n",
       "      <th>1</th>\n",
       "      <td>1</td>\n",
       "      <td>2</td>\n",
       "      <td>3</td>\n",
       "      <td>876893171</td>\n",
       "    </tr>\n",
       "    <tr>\n",
       "      <th>2</th>\n",
       "      <td>1</td>\n",
       "      <td>3</td>\n",
       "      <td>4</td>\n",
       "      <td>878542960</td>\n",
       "    </tr>\n",
       "    <tr>\n",
       "      <th>3</th>\n",
       "      <td>1</td>\n",
       "      <td>4</td>\n",
       "      <td>3</td>\n",
       "      <td>876893119</td>\n",
       "    </tr>\n",
       "    <tr>\n",
       "      <th>4</th>\n",
       "      <td>1</td>\n",
       "      <td>5</td>\n",
       "      <td>3</td>\n",
       "      <td>889751712</td>\n",
       "    </tr>\n",
       "  </tbody>\n",
       "</table>\n",
       "</div>"
      ],
      "text/plain": [
       "   user_id  movie_id  rating  unix_timestamp\n",
       "0        1         1       5       874965758\n",
       "1        1         2       3       876893171\n",
       "2        1         3       4       878542960\n",
       "3        1         4       3       876893119\n",
       "4        1         5       3       889751712"
      ]
     },
     "execution_count": 3,
     "metadata": {},
     "output_type": "execute_result"
    }
   ],
   "source": [
    "ratings_train.head()"
   ]
  },
  {
   "cell_type": "code",
   "execution_count": 4,
   "id": "4d9faf8f",
   "metadata": {},
   "outputs": [
    {
     "name": "stdout",
     "output_type": "stream",
     "text": [
      "943 1680\n",
      "943 1682\n"
     ]
    }
   ],
   "source": [
    "n_users = ratings_train.user_id.unique().shape[0]\n",
    "n_items = ratings_train.movie_id.unique().shape[0]\n",
    "\n",
    "\n",
    "max_user_id = max(ratings_train['user_id'])\n",
    "max_item_id = max(ratings_train['movie_id'])\n",
    "\n",
    "print(n_users, n_items)\n",
    "print(max_user_id, max_item_id)"
   ]
  },
  {
   "cell_type": "code",
   "execution_count": 5,
   "id": "ae7f65af",
   "metadata": {},
   "outputs": [],
   "source": [
    "data_matrix = np.zeros((n_users, max_item_id)) \n",
    "for line in ratings_train.itertuples():\n",
    "    data_matrix[line[1]-1, line[2]-1] = line[3]"
   ]
  },
  {
   "cell_type": "code",
   "execution_count": 6,
   "id": "267db471",
   "metadata": {},
   "outputs": [
    {
     "data": {
      "text/plain": [
       "(943, 1682)"
      ]
     },
     "execution_count": 6,
     "metadata": {},
     "output_type": "execute_result"
    }
   ],
   "source": [
    "data_matrix.shape"
   ]
  },
  {
   "cell_type": "code",
   "execution_count": 7,
   "id": "45ef741e",
   "metadata": {},
   "outputs": [],
   "source": [
    "from sklearn.metrics.pairwise import pairwise_distances \n",
    "user_similarity = pairwise_distances(data_matrix, metric='cosine')\n",
    "item_similarity = pairwise_distances(data_matrix.T, metric='cosine')"
   ]
  },
  {
   "cell_type": "code",
   "execution_count": 8,
   "id": "32e523df",
   "metadata": {},
   "outputs": [
    {
     "name": "stdout",
     "output_type": "stream",
     "text": [
      "(943, 943)\n",
      "(1682, 1682)\n"
     ]
    }
   ],
   "source": [
    "print(user_similarity.shape)\n",
    "print(item_similarity.shape)"
   ]
  },
  {
   "cell_type": "code",
   "execution_count": 9,
   "id": "c054af8f",
   "metadata": {},
   "outputs": [],
   "source": [
    "def predict(ratings, similarity, type='user'):\n",
    "    if type == 'user':\n",
    "        mean_user_rating = ratings.mean(axis=1)\n",
    "        #We use np.newaxis so that mean_user_rating has same format as ratings\n",
    "        ratings_diff = (ratings - mean_user_rating[:, np.newaxis])   # a[:, np.newaxis] gives transpose of a\n",
    "        pred = mean_user_rating[:, np.newaxis] + similarity.dot(ratings_diff) / np.array([np.abs(similarity).sum(axis=1)]).T\n",
    "    elif type == 'item':\n",
    "        pred = ratings.dot(similarity) / np.array([np.abs(similarity).sum(axis=1)])\n",
    "        \n",
    "    return pred"
   ]
  },
  {
   "cell_type": "code",
   "execution_count": 130,
   "id": "9f4e1833",
   "metadata": {},
   "outputs": [],
   "source": [
    "user_prediction = predict(data_matrix, user_similarity, type='user')"
   ]
  },
  {
   "cell_type": "code",
   "execution_count": 131,
   "id": "d0bf6fd4",
   "metadata": {},
   "outputs": [],
   "source": [
    "r_cols = [ 'movieName', 'release_date','movie_url','unknown','Action', 'Adventure', 'Animation','Children','Comedy','Crime', 'Documentary', 'Drama', 'Fantasy',\n",
    "              'Film-Noir' , 'Horror' , 'Musical' , 'Mystery', 'Romance' , 'Sci-Fi' ,'Thriller', 'War','Western']\n",
    "item_info = pd.read_csv('C:/Users/DELL/Downloads/ml-100k/u.item',names=r_cols, sep='|', encoding='latin-1')\n",
    "\n",
    "indexes = item_info.index\n",
    "\n",
    "movie_names = [i[1] for i in indexes]\n",
    "# movie_names\n",
    "\n",
    "user_predictions_df = pd.DataFrame(user_prediction, columns = movie_names)\n",
    "user_predictions_df = user_predictions_df.T"
   ]
  },
  {
   "cell_type": "code",
   "execution_count": 147,
   "id": "3d885de2",
   "metadata": {},
   "outputs": [],
   "source": [
    "def get_recommendations(userID):\n",
    "    preds = user_predictions_df[userID]\n",
    "#     print(preds)\n",
    "    new_df=user_predictions_df[[userID]].sort_values(by=[userID],ascending=False)\n",
    "    print(new_df[userID][:31])"
   ]
  },
  {
   "cell_type": "code",
   "execution_count": 160,
   "id": "da07f570",
   "metadata": {},
   "outputs": [
    {
     "name": "stdout",
     "output_type": "stream",
     "text": [
      "Star Wars (1977)                                2.065476\n",
      "Fargo (1996)                                    1.785245\n",
      "Return of the Jedi (1983)                       1.672772\n",
      "Contact (1997)                                  1.554194\n",
      "English Patient, The (1996)                     1.483289\n",
      "Raiders of the Lost Ark (1981)                  1.459260\n",
      "Toy Story (1995)                                1.432938\n",
      "Godfather, The (1972)                           1.404607\n",
      "Silence of the Lambs, The (1991)                1.368524\n",
      "Scream (1996)                                   1.335206\n",
      "Pulp Fiction (1994)                             1.303767\n",
      "Air Force One (1997)                            1.265387\n",
      "Empire Strikes Back, The (1980)                 1.258287\n",
      "Twelve Monkeys (1995)                           1.246951\n",
      "Independence Day (ID4) (1996)                   1.233318\n",
      "Liar Liar (1997)                                1.212342\n",
      "Titanic (1997)                                  1.163257\n",
      "Jerry Maguire (1996)                            1.160523\n",
      "Fugitive, The (1993)                            1.137114\n",
      "Princess Bride, The (1987)                      1.121457\n",
      "Rock, The (1996)                                1.101796\n",
      "Star Trek: First Contact (1996)                 1.092235\n",
      "Indiana Jones and the Last Crusade (1989)       1.089923\n",
      "Schindler's List (1993)                         1.061484\n",
      "Back to the Future (1985)                       1.061082\n",
      "Monty Python and the Holy Grail (1974)          1.060047\n",
      "L.A. Confidential (1997)                        1.047043\n",
      "Braveheart (1995)                               1.039136\n",
      "Shawshank Redemption, The (1994)                1.019046\n",
      "Usual Suspects, The (1995)                      0.985864\n",
      "Willy Wonka and the Chocolate Factory (1971)    0.981648\n",
      "Name: 11, dtype: float64\n"
     ]
    }
   ],
   "source": [
    "get_recommendations(11)"
   ]
  },
  {
   "cell_type": "code",
   "execution_count": 138,
   "id": "3d8ba6b2",
   "metadata": {},
   "outputs": [
    {
     "data": {
      "text/html": [
       "<div>\n",
       "<style scoped>\n",
       "    .dataframe tbody tr th:only-of-type {\n",
       "        vertical-align: middle;\n",
       "    }\n",
       "\n",
       "    .dataframe tbody tr th {\n",
       "        vertical-align: top;\n",
       "    }\n",
       "\n",
       "    .dataframe thead th {\n",
       "        text-align: right;\n",
       "    }\n",
       "</style>\n",
       "<table border=\"1\" class=\"dataframe\">\n",
       "  <thead>\n",
       "    <tr style=\"text-align: right;\">\n",
       "      <th></th>\n",
       "      <th>0</th>\n",
       "      <th>1</th>\n",
       "      <th>2</th>\n",
       "      <th>3</th>\n",
       "      <th>4</th>\n",
       "      <th>5</th>\n",
       "      <th>6</th>\n",
       "      <th>7</th>\n",
       "      <th>8</th>\n",
       "      <th>9</th>\n",
       "      <th>...</th>\n",
       "      <th>933</th>\n",
       "      <th>934</th>\n",
       "      <th>935</th>\n",
       "      <th>936</th>\n",
       "      <th>937</th>\n",
       "      <th>938</th>\n",
       "      <th>939</th>\n",
       "      <th>940</th>\n",
       "      <th>941</th>\n",
       "      <th>942</th>\n",
       "    </tr>\n",
       "  </thead>\n",
       "  <tbody>\n",
       "    <tr>\n",
       "      <th>Toy Story (1995)</th>\n",
       "      <td>1.813028</td>\n",
       "      <td>1.499090</td>\n",
       "      <td>1.517559</td>\n",
       "      <td>1.460529</td>\n",
       "      <td>1.572856</td>\n",
       "      <td>1.732210</td>\n",
       "      <td>2.200339</td>\n",
       "      <td>1.448526</td>\n",
       "      <td>1.404242</td>\n",
       "      <td>1.751797</td>\n",
       "      <td>...</td>\n",
       "      <td>1.673475</td>\n",
       "      <td>1.396558</td>\n",
       "      <td>1.636429</td>\n",
       "      <td>1.438332</td>\n",
       "      <td>1.484525</td>\n",
       "      <td>1.434085</td>\n",
       "      <td>1.545759</td>\n",
       "      <td>1.367278</td>\n",
       "      <td>1.544525</td>\n",
       "      <td>1.593531</td>\n",
       "    </tr>\n",
       "    <tr>\n",
       "      <th>GoldenEye (1995)</th>\n",
       "      <td>0.706541</td>\n",
       "      <td>0.341086</td>\n",
       "      <td>0.293120</td>\n",
       "      <td>0.249340</td>\n",
       "      <td>0.440241</td>\n",
       "      <td>0.616495</td>\n",
       "      <td>1.069593</td>\n",
       "      <td>0.274415</td>\n",
       "      <td>0.232788</td>\n",
       "      <td>0.612770</td>\n",
       "      <td>...</td>\n",
       "      <td>0.524027</td>\n",
       "      <td>0.272588</td>\n",
       "      <td>0.506221</td>\n",
       "      <td>0.277765</td>\n",
       "      <td>0.393649</td>\n",
       "      <td>0.304736</td>\n",
       "      <td>0.383555</td>\n",
       "      <td>0.234737</td>\n",
       "      <td>0.368189</td>\n",
       "      <td>0.454778</td>\n",
       "    </tr>\n",
       "    <tr>\n",
       "      <th>Four Rooms (1995)</th>\n",
       "      <td>0.616523</td>\n",
       "      <td>0.183207</td>\n",
       "      <td>0.150444</td>\n",
       "      <td>0.110153</td>\n",
       "      <td>0.349785</td>\n",
       "      <td>0.511480</td>\n",
       "      <td>0.998240</td>\n",
       "      <td>0.182507</td>\n",
       "      <td>0.100171</td>\n",
       "      <td>0.512360</td>\n",
       "      <td>...</td>\n",
       "      <td>0.437236</td>\n",
       "      <td>0.129504</td>\n",
       "      <td>0.341792</td>\n",
       "      <td>0.128674</td>\n",
       "      <td>0.242496</td>\n",
       "      <td>0.163207</td>\n",
       "      <td>0.270766</td>\n",
       "      <td>0.092060</td>\n",
       "      <td>0.256787</td>\n",
       "      <td>0.373044</td>\n",
       "    </tr>\n",
       "    <tr>\n",
       "      <th>Get Shorty (1995)</th>\n",
       "      <td>0.973042</td>\n",
       "      <td>0.676493</td>\n",
       "      <td>0.634967</td>\n",
       "      <td>0.590413</td>\n",
       "      <td>0.732799</td>\n",
       "      <td>0.878450</td>\n",
       "      <td>1.320885</td>\n",
       "      <td>0.580882</td>\n",
       "      <td>0.559717</td>\n",
       "      <td>0.869702</td>\n",
       "      <td>...</td>\n",
       "      <td>0.799187</td>\n",
       "      <td>0.611804</td>\n",
       "      <td>0.837390</td>\n",
       "      <td>0.608963</td>\n",
       "      <td>0.728223</td>\n",
       "      <td>0.635464</td>\n",
       "      <td>0.671546</td>\n",
       "      <td>0.571196</td>\n",
       "      <td>0.680572</td>\n",
       "      <td>0.747626</td>\n",
       "    </tr>\n",
       "    <tr>\n",
       "      <th>Copycat (1995)</th>\n",
       "      <td>0.613974</td>\n",
       "      <td>0.198972</td>\n",
       "      <td>0.152929</td>\n",
       "      <td>0.112402</td>\n",
       "      <td>0.344278</td>\n",
       "      <td>0.509771</td>\n",
       "      <td>0.978426</td>\n",
       "      <td>0.174326</td>\n",
       "      <td>0.100660</td>\n",
       "      <td>0.501255</td>\n",
       "      <td>...</td>\n",
       "      <td>0.429158</td>\n",
       "      <td>0.141421</td>\n",
       "      <td>0.369652</td>\n",
       "      <td>0.137424</td>\n",
       "      <td>0.261146</td>\n",
       "      <td>0.171236</td>\n",
       "      <td>0.268153</td>\n",
       "      <td>0.104276</td>\n",
       "      <td>0.252736</td>\n",
       "      <td>0.365368</td>\n",
       "    </tr>\n",
       "    <tr>\n",
       "      <th>...</th>\n",
       "      <td>...</td>\n",
       "      <td>...</td>\n",
       "      <td>...</td>\n",
       "      <td>...</td>\n",
       "      <td>...</td>\n",
       "      <td>...</td>\n",
       "      <td>...</td>\n",
       "      <td>...</td>\n",
       "      <td>...</td>\n",
       "      <td>...</td>\n",
       "      <td>...</td>\n",
       "      <td>...</td>\n",
       "      <td>...</td>\n",
       "      <td>...</td>\n",
       "      <td>...</td>\n",
       "      <td>...</td>\n",
       "      <td>...</td>\n",
       "      <td>...</td>\n",
       "      <td>...</td>\n",
       "      <td>...</td>\n",
       "      <td>...</td>\n",
       "    </tr>\n",
       "    <tr>\n",
       "      <th>Mat' i syn (1997)</th>\n",
       "      <td>0.391011</td>\n",
       "      <td>-0.086303</td>\n",
       "      <td>-0.126632</td>\n",
       "      <td>-0.166271</td>\n",
       "      <td>0.107555</td>\n",
       "      <td>0.259371</td>\n",
       "      <td>0.760578</td>\n",
       "      <td>-0.073077</td>\n",
       "      <td>-0.167073</td>\n",
       "      <td>0.259618</td>\n",
       "      <td>...</td>\n",
       "      <td>0.185034</td>\n",
       "      <td>-0.129459</td>\n",
       "      <td>0.096703</td>\n",
       "      <td>-0.143001</td>\n",
       "      <td>-0.002179</td>\n",
       "      <td>-0.096244</td>\n",
       "      <td>0.014886</td>\n",
       "      <td>-0.172477</td>\n",
       "      <td>-0.012148</td>\n",
       "      <td>0.144145</td>\n",
       "    </tr>\n",
       "    <tr>\n",
       "      <th>B. Monkey (1998)</th>\n",
       "      <td>0.393593</td>\n",
       "      <td>-0.084597</td>\n",
       "      <td>-0.125257</td>\n",
       "      <td>-0.164641</td>\n",
       "      <td>0.110065</td>\n",
       "      <td>0.261822</td>\n",
       "      <td>0.763146</td>\n",
       "      <td>-0.070696</td>\n",
       "      <td>-0.164931</td>\n",
       "      <td>0.262070</td>\n",
       "      <td>...</td>\n",
       "      <td>0.187428</td>\n",
       "      <td>-0.127275</td>\n",
       "      <td>0.098776</td>\n",
       "      <td>-0.140910</td>\n",
       "      <td>0.000141</td>\n",
       "      <td>-0.093941</td>\n",
       "      <td>0.016992</td>\n",
       "      <td>-0.170353</td>\n",
       "      <td>-0.010130</td>\n",
       "      <td>0.146744</td>\n",
       "    </tr>\n",
       "    <tr>\n",
       "      <th>Sliding Doors (1998)</th>\n",
       "      <td>0.392302</td>\n",
       "      <td>-0.085450</td>\n",
       "      <td>-0.125945</td>\n",
       "      <td>-0.165456</td>\n",
       "      <td>0.108810</td>\n",
       "      <td>0.260596</td>\n",
       "      <td>0.761862</td>\n",
       "      <td>-0.071886</td>\n",
       "      <td>-0.166002</td>\n",
       "      <td>0.260844</td>\n",
       "      <td>...</td>\n",
       "      <td>0.186231</td>\n",
       "      <td>-0.128367</td>\n",
       "      <td>0.097740</td>\n",
       "      <td>-0.141956</td>\n",
       "      <td>-0.001019</td>\n",
       "      <td>-0.095093</td>\n",
       "      <td>0.015939</td>\n",
       "      <td>-0.171415</td>\n",
       "      <td>-0.011139</td>\n",
       "      <td>0.145444</td>\n",
       "    </tr>\n",
       "    <tr>\n",
       "      <th>You So Crazy (1994)</th>\n",
       "      <td>0.391804</td>\n",
       "      <td>-0.083943</td>\n",
       "      <td>-0.124159</td>\n",
       "      <td>-0.163950</td>\n",
       "      <td>0.108678</td>\n",
       "      <td>0.260629</td>\n",
       "      <td>0.761231</td>\n",
       "      <td>-0.071904</td>\n",
       "      <td>-0.165133</td>\n",
       "      <td>0.260674</td>\n",
       "      <td>...</td>\n",
       "      <td>0.186271</td>\n",
       "      <td>-0.127451</td>\n",
       "      <td>0.098799</td>\n",
       "      <td>-0.140791</td>\n",
       "      <td>-0.000469</td>\n",
       "      <td>-0.094394</td>\n",
       "      <td>0.016425</td>\n",
       "      <td>-0.170362</td>\n",
       "      <td>-0.010445</td>\n",
       "      <td>0.144972</td>\n",
       "    </tr>\n",
       "    <tr>\n",
       "      <th>Scream of Stone (Schrei aus Stein) (1991)</th>\n",
       "      <td>0.391544</td>\n",
       "      <td>-0.083667</td>\n",
       "      <td>-0.123952</td>\n",
       "      <td>-0.163739</td>\n",
       "      <td>0.108875</td>\n",
       "      <td>0.260674</td>\n",
       "      <td>0.761401</td>\n",
       "      <td>-0.071551</td>\n",
       "      <td>-0.165094</td>\n",
       "      <td>0.260883</td>\n",
       "      <td>...</td>\n",
       "      <td>0.186307</td>\n",
       "      <td>-0.127335</td>\n",
       "      <td>0.098696</td>\n",
       "      <td>-0.140799</td>\n",
       "      <td>-0.000189</td>\n",
       "      <td>-0.094160</td>\n",
       "      <td>0.016675</td>\n",
       "      <td>-0.170426</td>\n",
       "      <td>-0.010066</td>\n",
       "      <td>0.145120</td>\n",
       "    </tr>\n",
       "  </tbody>\n",
       "</table>\n",
       "<p>1682 rows × 943 columns</p>\n",
       "</div>"
      ],
      "text/plain": [
       "                                                0         1         2    \\\n",
       "Toy Story (1995)                           1.813028  1.499090  1.517559   \n",
       "GoldenEye (1995)                           0.706541  0.341086  0.293120   \n",
       "Four Rooms (1995)                          0.616523  0.183207  0.150444   \n",
       "Get Shorty (1995)                          0.973042  0.676493  0.634967   \n",
       "Copycat (1995)                             0.613974  0.198972  0.152929   \n",
       "...                                             ...       ...       ...   \n",
       "Mat' i syn (1997)                          0.391011 -0.086303 -0.126632   \n",
       "B. Monkey (1998)                           0.393593 -0.084597 -0.125257   \n",
       "Sliding Doors (1998)                       0.392302 -0.085450 -0.125945   \n",
       "You So Crazy (1994)                        0.391804 -0.083943 -0.124159   \n",
       "Scream of Stone (Schrei aus Stein) (1991)  0.391544 -0.083667 -0.123952   \n",
       "\n",
       "                                                3         4         5    \\\n",
       "Toy Story (1995)                           1.460529  1.572856  1.732210   \n",
       "GoldenEye (1995)                           0.249340  0.440241  0.616495   \n",
       "Four Rooms (1995)                          0.110153  0.349785  0.511480   \n",
       "Get Shorty (1995)                          0.590413  0.732799  0.878450   \n",
       "Copycat (1995)                             0.112402  0.344278  0.509771   \n",
       "...                                             ...       ...       ...   \n",
       "Mat' i syn (1997)                         -0.166271  0.107555  0.259371   \n",
       "B. Monkey (1998)                          -0.164641  0.110065  0.261822   \n",
       "Sliding Doors (1998)                      -0.165456  0.108810  0.260596   \n",
       "You So Crazy (1994)                       -0.163950  0.108678  0.260629   \n",
       "Scream of Stone (Schrei aus Stein) (1991) -0.163739  0.108875  0.260674   \n",
       "\n",
       "                                                6         7         8    \\\n",
       "Toy Story (1995)                           2.200339  1.448526  1.404242   \n",
       "GoldenEye (1995)                           1.069593  0.274415  0.232788   \n",
       "Four Rooms (1995)                          0.998240  0.182507  0.100171   \n",
       "Get Shorty (1995)                          1.320885  0.580882  0.559717   \n",
       "Copycat (1995)                             0.978426  0.174326  0.100660   \n",
       "...                                             ...       ...       ...   \n",
       "Mat' i syn (1997)                          0.760578 -0.073077 -0.167073   \n",
       "B. Monkey (1998)                           0.763146 -0.070696 -0.164931   \n",
       "Sliding Doors (1998)                       0.761862 -0.071886 -0.166002   \n",
       "You So Crazy (1994)                        0.761231 -0.071904 -0.165133   \n",
       "Scream of Stone (Schrei aus Stein) (1991)  0.761401 -0.071551 -0.165094   \n",
       "\n",
       "                                                9    ...       933       934  \\\n",
       "Toy Story (1995)                           1.751797  ...  1.673475  1.396558   \n",
       "GoldenEye (1995)                           0.612770  ...  0.524027  0.272588   \n",
       "Four Rooms (1995)                          0.512360  ...  0.437236  0.129504   \n",
       "Get Shorty (1995)                          0.869702  ...  0.799187  0.611804   \n",
       "Copycat (1995)                             0.501255  ...  0.429158  0.141421   \n",
       "...                                             ...  ...       ...       ...   \n",
       "Mat' i syn (1997)                          0.259618  ...  0.185034 -0.129459   \n",
       "B. Monkey (1998)                           0.262070  ...  0.187428 -0.127275   \n",
       "Sliding Doors (1998)                       0.260844  ...  0.186231 -0.128367   \n",
       "You So Crazy (1994)                        0.260674  ...  0.186271 -0.127451   \n",
       "Scream of Stone (Schrei aus Stein) (1991)  0.260883  ...  0.186307 -0.127335   \n",
       "\n",
       "                                                935       936       937  \\\n",
       "Toy Story (1995)                           1.636429  1.438332  1.484525   \n",
       "GoldenEye (1995)                           0.506221  0.277765  0.393649   \n",
       "Four Rooms (1995)                          0.341792  0.128674  0.242496   \n",
       "Get Shorty (1995)                          0.837390  0.608963  0.728223   \n",
       "Copycat (1995)                             0.369652  0.137424  0.261146   \n",
       "...                                             ...       ...       ...   \n",
       "Mat' i syn (1997)                          0.096703 -0.143001 -0.002179   \n",
       "B. Monkey (1998)                           0.098776 -0.140910  0.000141   \n",
       "Sliding Doors (1998)                       0.097740 -0.141956 -0.001019   \n",
       "You So Crazy (1994)                        0.098799 -0.140791 -0.000469   \n",
       "Scream of Stone (Schrei aus Stein) (1991)  0.098696 -0.140799 -0.000189   \n",
       "\n",
       "                                                938       939       940  \\\n",
       "Toy Story (1995)                           1.434085  1.545759  1.367278   \n",
       "GoldenEye (1995)                           0.304736  0.383555  0.234737   \n",
       "Four Rooms (1995)                          0.163207  0.270766  0.092060   \n",
       "Get Shorty (1995)                          0.635464  0.671546  0.571196   \n",
       "Copycat (1995)                             0.171236  0.268153  0.104276   \n",
       "...                                             ...       ...       ...   \n",
       "Mat' i syn (1997)                         -0.096244  0.014886 -0.172477   \n",
       "B. Monkey (1998)                          -0.093941  0.016992 -0.170353   \n",
       "Sliding Doors (1998)                      -0.095093  0.015939 -0.171415   \n",
       "You So Crazy (1994)                       -0.094394  0.016425 -0.170362   \n",
       "Scream of Stone (Schrei aus Stein) (1991) -0.094160  0.016675 -0.170426   \n",
       "\n",
       "                                                941       942  \n",
       "Toy Story (1995)                           1.544525  1.593531  \n",
       "GoldenEye (1995)                           0.368189  0.454778  \n",
       "Four Rooms (1995)                          0.256787  0.373044  \n",
       "Get Shorty (1995)                          0.680572  0.747626  \n",
       "Copycat (1995)                             0.252736  0.365368  \n",
       "...                                             ...       ...  \n",
       "Mat' i syn (1997)                         -0.012148  0.144145  \n",
       "B. Monkey (1998)                          -0.010130  0.146744  \n",
       "Sliding Doors (1998)                      -0.011139  0.145444  \n",
       "You So Crazy (1994)                       -0.010445  0.144972  \n",
       "Scream of Stone (Schrei aus Stein) (1991) -0.010066  0.145120  \n",
       "\n",
       "[1682 rows x 943 columns]"
      ]
     },
     "execution_count": 138,
     "metadata": {},
     "output_type": "execute_result"
    }
   ],
   "source": [
    "user_predictions_df"
   ]
  },
  {
   "cell_type": "code",
   "execution_count": 290,
   "id": "8c4f7814",
   "metadata": {},
   "outputs": [
    {
     "name": "stdout",
     "output_type": "stream",
     "text": [
      "Movie Name: Little Rascals, The (1994)\n",
      "Little+Rascals,+The+(1994)\n",
      "http://www.imdb.com/find?q=Little+Rascals,+The+(1994)&s=all\n",
      "<tr class=\"findResult odd\"> <td class=\"primary_photo\"> <a href=\"/title/tt1067369/\"><img src=\"https://m.media-amazon.com/images/M/MV5BOWRhM2U3ZmYtZDMxOS00ZmM4LWJlZTYtNGQ2YzVjOTQxZjVlXkEyXkFqcGdeQXVyNzkzODA4NzI@._V1_UX32_CR0,0,32,44_AL_.jpg\"/></a> </td> <td class=\"result_text\"> <a href=\"/title/tt1067369/\">The Little Rascal: Stymie</a> (2000) (TV Episode) <br/> <small>- Season 3 <span class=\"ghost\">|</span> Episode 8 </small> <br><small>- <a href=\"/title/tt0155428/\">E! Mysteries &amp; Scandals</a> (1998) (TV Series) </small> </br></td> </tr>\n"
     ]
    }
   ],
   "source": [
    "# import urllib2\n",
    "import urllib.request as urllib2\n",
    "from bs4 import BeautifulSoup\n",
    "import re\n",
    "import requests\n",
    "movie = str(input('Movie Name: '))\n",
    "movie_search = '+'.join(movie.split())\n",
    "print(movie_search)\n",
    "base_url = 'http://www.imdb.com/find?q='\n",
    "url = base_url+movie_search+'&s=all'\n",
    "print(url)\n",
    "\n",
    "\n",
    "res = requests.get(url=url)\n",
    "soup = BeautifulSoup(res.text, 'html.parser')\n",
    "meta = soup.find_all('tr')[0]\n",
    "print(meta)"
   ]
  },
  {
   "cell_type": "code",
   "execution_count": 291,
   "id": "1d5b6110",
   "metadata": {},
   "outputs": [
    {
     "name": "stdout",
     "output_type": "stream",
     "text": [
      "https://www.imdb.com/title/tt0155428/?ref_=fn_al_tt_1\n"
     ]
    }
   ],
   "source": [
    "poster_url = meta.find_all('img')[0].get('src')\n",
    "# print(poster_url)\n",
    "title = meta.find_all('a')[-1].get('href')\n",
    "\n",
    "base = \"https://www.imdb.com\"\n",
    "end = \"?ref_=fn_al_tt_1\"\n",
    "movie_url = base+title+end\n",
    "print(movie_url)"
   ]
  },
  {
   "cell_type": "code",
   "execution_count": 292,
   "id": "5f2ceee2",
   "metadata": {},
   "outputs": [],
   "source": [
    "res = requests.get(url=movie_url)\n",
    "soup = BeautifulSoup(res.text, 'html.parser')\n",
    "# meta = soup.find_all('tr')[0]\n",
    "# print(soup)"
   ]
  },
  {
   "cell_type": "code",
   "execution_count": 324,
   "id": "fe329a1b",
   "metadata": {},
   "outputs": [],
   "source": [
    "# soup"
   ]
  },
  {
   "cell_type": "code",
   "execution_count": 294,
   "id": "c7fb017a",
   "metadata": {},
   "outputs": [
    {
     "data": {
      "text/plain": [
       "[<div class=\"ipc-html-content ipc-html-content--base\"><div>Hollywood's most notorious scandals exposed through interviews and re-enactments.</div></div>,\n",
       " <div class=\"ipc-html-content ipc-html-content--base\"><div>This show is a wonderful experience for anyone who is interested in the scandalous lives and often mysterious deaths of celebrities. I wish they would air some more original episodes of this exceptional series. It packs a lot of punch for a 30-minute segment and is absolutely addictive.</div></div>]"
      ]
     },
     "execution_count": 294,
     "metadata": {},
     "output_type": "execute_result"
    }
   ],
   "source": [
    "soup.find_all(\"div\", {'class':\"ipc-html-content ipc-html-content--base\"})"
   ]
  },
  {
   "cell_type": "code",
   "execution_count": 295,
   "id": "bed502f6",
   "metadata": {},
   "outputs": [
    {
     "data": {
      "text/plain": [
       "\"E! Mysteries & Scandals: With A.J. Benza, A.C. Lyles, Marc Wanamaker, Bob Thomas. Hollywood's most notorious scandals exposed through interviews and re-enactments.\""
      ]
     },
     "execution_count": 295,
     "metadata": {},
     "output_type": "execute_result"
    }
   ],
   "source": [
    "soup.find_all(\"meta\")[5].get('content')"
   ]
  },
  {
   "cell_type": "code",
   "execution_count": 323,
   "id": "dfca3752",
   "metadata": {},
   "outputs": [
    {
     "data": {
      "text/plain": [
       "<div class=\"_1IQgIe3JwGh2arzItRgYN3\" role=\"presentation\"><ul aria-orientation=\"vertical\" class=\"ipc-list _1gB7giE3RrFWXvlzwjWk-q ipc-list--baseAlt\" role=\"menu\"><a aria-disabled=\"false\" class=\"ipc-list__item nav-link NavLink-sc-19k0khm-0 dvLykY ipc-list__item--indent-one\" href=\"/what-to-watch/?ref_=nv_watch\" role=\"menuitem\" tabindex=\"-1\"><span class=\"ipc-list-item__text\" role=\"presentation\">What to Watch</span></a><a aria-disabled=\"false\" class=\"ipc-list__item nav-link NavLink-sc-19k0khm-0 dvLykY ipc-list__item--indent-one\" href=\"/trailers/?ref_=nv_mv_tr\" role=\"menuitem\" tabindex=\"-1\"><span class=\"ipc-list-item__text\" role=\"presentation\">Latest Trailers</span></a><a aria-disabled=\"false\" class=\"ipc-list__item nav-link NavLink-sc-19k0khm-0 dvLykY ipc-list__item--indent-one\" href=\"/originals/?ref_=nv_sf_ori\" role=\"menuitem\" tabindex=\"-1\"><span class=\"ipc-list-item__text\" role=\"presentation\">IMDb Originals</span></a><a aria-disabled=\"false\" class=\"ipc-list__item nav-link NavLink-sc-19k0khm-0 dvLykY ipc-list__item--indent-one\" href=\"/imdbpicks/?ref_=nv_pi\" role=\"menuitem\" tabindex=\"-1\"><span class=\"ipc-list-item__text\" role=\"presentation\">IMDb Picks</span></a><a aria-disabled=\"false\" class=\"ipc-list__item nav-link NavLink-sc-19k0khm-0 dvLykY ipc-list__item--indent-one\" href=\"/podcasts/?ref_=nv_pod\" role=\"menuitem\" tabindex=\"-1\"><span class=\"ipc-list-item__text\" role=\"presentation\">IMDb Podcasts</span></a></ul></div>"
      ]
     },
     "execution_count": 323,
     "metadata": {},
     "output_type": "execute_result"
    }
   ],
   "source": [
    "soup.find_all(\"div\")[18]"
   ]
  },
  {
   "cell_type": "code",
   "execution_count": 296,
   "id": "63f2503b",
   "metadata": {},
   "outputs": [
    {
     "name": "stdout",
     "output_type": "stream",
     "text": [
      "E! Mysteries & Scandals (TV Series 1998– ) - IMDb\n"
     ]
    }
   ],
   "source": [
    "title = soup.find('title')\n",
    "print(title.string)"
   ]
  },
  {
   "cell_type": "code",
   "execution_count": 222,
   "id": "c23aa0e0",
   "metadata": {},
   "outputs": [
    {
     "name": "stdout",
     "output_type": "stream",
     "text": [
      "None\n"
     ]
    }
   ],
   "source": [
    "print(soup.find(\"div\",{'class':'titleBar'}))"
   ]
  },
  {
   "cell_type": "code",
   "execution_count": 228,
   "id": "3e3418ba",
   "metadata": {},
   "outputs": [
    {
     "ename": "AttributeError",
     "evalue": "'NoneType' object has no attribute 'contents'",
     "output_type": "error",
     "traceback": [
      "\u001b[1;31m---------------------------------------------------------------------------\u001b[0m",
      "\u001b[1;31mAttributeError\u001b[0m                            Traceback (most recent call last)",
      "\u001b[1;32m<ipython-input-228-a66f4379c092>\u001b[0m in \u001b[0;36m<module>\u001b[1;34m\u001b[0m\n\u001b[0;32m     14\u001b[0m \u001b[0msubtext\u001b[0m \u001b[1;33m=\u001b[0m \u001b[0msoup\u001b[0m\u001b[1;33m.\u001b[0m\u001b[0mfind\u001b[0m\u001b[1;33m(\u001b[0m\u001b[1;34m\"div\"\u001b[0m\u001b[1;33m,\u001b[0m\u001b[1;33m{\u001b[0m\u001b[1;34m'class'\u001b[0m\u001b[1;33m:\u001b[0m\u001b[1;34m'subtext'\u001b[0m\u001b[1;33m}\u001b[0m\u001b[1;33m)\u001b[0m\u001b[1;33m\u001b[0m\u001b[1;33m\u001b[0m\u001b[0m\n\u001b[0;32m     15\u001b[0m \u001b[0mdata\u001b[0m\u001b[1;33m[\u001b[0m\u001b[1;34m\"subtext\"\u001b[0m\u001b[1;33m]\u001b[0m \u001b[1;33m=\u001b[0m \u001b[1;34m\"\"\u001b[0m\u001b[1;33m\u001b[0m\u001b[1;33m\u001b[0m\u001b[0m\n\u001b[1;32m---> 16\u001b[1;33m \u001b[1;32mfor\u001b[0m \u001b[0mi\u001b[0m \u001b[1;32min\u001b[0m \u001b[0msubtext\u001b[0m\u001b[1;33m.\u001b[0m\u001b[0mcontents\u001b[0m\u001b[1;33m:\u001b[0m\u001b[1;33m\u001b[0m\u001b[1;33m\u001b[0m\u001b[0m\n\u001b[0m\u001b[0;32m     17\u001b[0m     \u001b[0mdata\u001b[0m\u001b[1;33m[\u001b[0m\u001b[1;34m\"subtext\"\u001b[0m\u001b[1;33m]\u001b[0m \u001b[1;33m+=\u001b[0m \u001b[0mi\u001b[0m\u001b[1;33m.\u001b[0m\u001b[0mstring\u001b[0m\u001b[1;33m.\u001b[0m\u001b[0mstrip\u001b[0m\u001b[1;33m(\u001b[0m\u001b[1;33m)\u001b[0m\u001b[1;33m\u001b[0m\u001b[1;33m\u001b[0m\u001b[0m\n\u001b[0;32m     18\u001b[0m \u001b[1;33m\u001b[0m\u001b[0m\n",
      "\u001b[1;31mAttributeError\u001b[0m: 'NoneType' object has no attribute 'contents'"
     ]
    }
   ],
   "source": [
    "data = {}\n",
    "ratingValue = soup.find(\"span\", {\"itemprop\" : \"ratingValue\"})\n",
    "# data[\"ratingValue\"] = ratingValue.string\n",
    "\n",
    "# no of rating given\n",
    "ratingCount = soup.find(\"span\", {\"itemprop\" : \"ratingCount\"})\n",
    "# data[\"ratingCount\"] = ratingCount.string\n",
    "\n",
    "# name\n",
    "# titleName = soup.find(\"div\",{'class':'titleBar'}).find(\"h1\")\n",
    "# data[\"name\"] = titleName.contents[0].replace(u'\\xa0', u'')\n",
    "\n",
    "# additional details\n",
    "subtext = soup.find(\"div\",{'class':'subtext'})\n",
    "data[\"subtext\"] = \"\"\n",
    "for i in subtext.contents:\n",
    "    data[\"subtext\"] += i.string.strip()\n",
    "\n",
    "# summary\n",
    "summary_text = soup.find(\"div\",{'class':'summary_text'})\n",
    "data[\"summary_text\"] = summary_text.string.strip()\n",
    "\n",
    "credit_summary_item = soup.find_all(\"div\",{'class':'credit_summary_item'})\n",
    "data[\"credits\"] = {}\n",
    "for i in credit_summary_item:\n",
    "    item = i.find(\"h4\")\n",
    "    names = i.find_all(\"a\")\n",
    "    data[\"credits\"][item.string] = []\n",
    "    for i in names:\n",
    "        data[\"credits\"][item.string].append({\n",
    "            \"link\": i[\"href\"],\n",
    "            \"name\": i.string\n",
    "        })\n",
    "print(data)"
   ]
  },
  {
   "cell_type": "code",
   "execution_count": null,
   "id": "1964f778",
   "metadata": {},
   "outputs": [],
   "source": []
  }
 ],
 "metadata": {
  "kernelspec": {
   "display_name": "Python 3",
   "language": "python",
   "name": "python3"
  },
  "language_info": {
   "codemirror_mode": {
    "name": "ipython",
    "version": 3
   },
   "file_extension": ".py",
   "mimetype": "text/x-python",
   "name": "python",
   "nbconvert_exporter": "python",
   "pygments_lexer": "ipython3",
   "version": "3.8.8"
  }
 },
 "nbformat": 4,
 "nbformat_minor": 5
}
